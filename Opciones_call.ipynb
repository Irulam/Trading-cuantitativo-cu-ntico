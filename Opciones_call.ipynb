{
 "cells": [
  {
   "cell_type": "markdown",
   "id": "super-philosophy",
   "metadata": {},
   "source": [
    "**[David Davó Laviña](https://ddavo.me/es) y Leidy Vanesa Vidales González**\n",
    "# Valoración de Opciones Europeas usando Computación Cuántica\n",
    "\n",
    "Antes de continuar, recomendamos leer la memoria del proyecto disponible en [GitHub](https://github.com/Irulam/trading-cuantitativo-cuantico), que contiene una introducción a las finanzas, al igual que a distintos métodos clásicos de valoración de opciones. Además, será referenciada a lo largo de este Notebook."
   ]
  },
  {
   "cell_type": "code",
   "execution_count": 1,
   "id": "medium-syracuse",
   "metadata": {},
   "outputs": [],
   "source": [
    "import matplotlib.pyplot as plt\n",
    "import numpy as np\n",
    "import ipywidgets as ipw\n",
    "\n",
    "from qiskit import Aer, QuantumCircuit\n",
    "from qiskit.aqua.algorithms import IterativeAmplitudeEstimation\n",
    "from qiskit.circuit.library import LogNormalDistribution, LinearAmplitudeFunction"
   ]
  },
  {
   "cell_type": "markdown",
   "id": "false-radius",
   "metadata": {},
   "source": [
    "Además de importar las librerías de siempre de Qiskit, vamos a usar la librería Qiskit [Aqua](https://qiskit.org/documentation/apidoc/qiskit_aqua.html) que contiene implementaciones de distintos algoritmos, como el de estimación de amplitud que usaremos. También cuenta con un módulo `qiskit.aqua.finance` con algorítmos específicos para finanzas.\n",
    "\n",
    "También usaremos la librería de circuitos pre-implementados de Qiskit, para simular una distribución log-normal en los qubits de nuestro circuito.\n",
    "\n",
    "## Opciones de compra (calls)\n",
    "Como hemos podido ver en la memoria, dado $V$ el valor del subyacente en la fecha de vencimiento y $E$ el precio de ejercicio, la función de pago de una función de compra será:\n",
    "$$ \\max\\left(V-E,0\\right) $$\n",
    "\n",
    "Al igual que con el método de Montecarlo, generaremos una distribución de probabilidad $\\mathbb{P}$, que concretamente seguirá una distribución log-normal. Nuestro **objetivo** será obtener aproximadamente el valor esperado de la función de pago para la distribución, pero en un tiempo mucho más eficiente que con Montecarlo. Para ello, nos apoyaremos en la estimación de la amplitud:\n",
    "\n",
    "$$ \\hat{\\mathbb{E}}_{\\mathbb{P}}\\left[\\max\\left(V-E,0\\right)\\right] $$\n",
    "\n",
    "También nos interesará obtener $\\Delta$, la función que nos define la distribución de probabilidad del precio de la opción:\n",
    "\n",
    "$$ \\Delta = \\mathbb{P}\\left[V\\geq E\\right] $$\n",
    "\n",
    "### Modelo de incertidumbre\n",
    "Vamos a ver lo que hace el circuito `LogNormalDistribution`. Dados $n$ qubits retorna la codificación en el dominio de la fase de la distribución log-normal discretizada en $2^n$ puntos (todos los posibles con $n$ qubits). Es decir, siendo $p_i$ el punto $i$ de la distribución de probabilidad discretizada, el circuito realiza la siguiente función matemática:\n",
    "\n",
    "$$ |0\\rangle_n \\mapsto |\\psi\\rangle_n = \\sum_{i=0}^{2^n-1} \\sqrt{p_i}|i\\rangle_n $$\n",
    "\n",
    "El problema es que requiere de una cantidad de puertas cuánticas insasumible.\n",
    "\n",
    "Para solucionar este problema se usa una red neuronal implementada mediante un circuito cuántico denominada generative adversarial network (GAN) que interpreta la distribución como un estado cuántico.\n",
    "\n",
    "Así, con tan solo $n$ qubits, ¡tenemos codificados $2^n$ puntos de la distribución lognormal!\n",
    "\n",
    "Siguiendo el modelo Black-Scholes-Merton, podemos crear nuestra distribución log-normal con los parámetros:\n",
    "\n",
    "$$ \\mu = (r-0.5\\sigma^2)T+\\ln\\left(S_0\\right) $$\n",
    "\n",
    "Donde $\\sigma$ es la volatilidad (que en el modelo Black-Scholes-Merton considera constante), $r$ es el interés de mercado, $T$ es el tiempo que pasa hasta la fecha de vencimiento y $S_0$ es el precio del activo con $t=0$.\n",
    "\n",
    "Para ser más precisos en la discretización, el algoritmo nos permite establecer el rango de valores entre los que discretizaremos, elegiremos el rango en el que los datos no se desvían más de 3 veces la desviación típica de la media.\n",
    "\n",
    "Vamos a realizar un ejemplo, donde el precio inicial de la acción es $2€$, la volatilidad es de 0.4, y su interés anual es del 5%, queremos calcular la distribución de valores de dicha acción tras 40 días."
   ]
  },
  {
   "cell_type": "code",
   "execution_count": 23,
   "id": "liberal-friendly",
   "metadata": {},
   "outputs": [],
   "source": [
    "def modelo_incertidumbre(\n",
    "        qubits=3, \n",
    "        spot_price=2.0, # Precio actual\n",
    "        volatilidad=0.4,\n",
    "        interes_anual=0.05,\n",
    "        maduracion= 40 / 365 # Tiempo hasta la fecha de vencimiento en años):\n",
    "    ):\n",
    "    \n",
    "    mu = ((interes_anual - 0.5 * volatilidad**2) * maduracion + np.log(spot_price))\n",
    "    sigma = volatilidad * np.sqrt(maduracion)\n",
    "    media = np.exp(mu + sigma**2/2)\n",
    "    varianza = (np.exp(sigma**2) - 1) * np.exp(2*mu + sigma**2)\n",
    "    stddev = np.sqrt(varianza)\n",
    "\n",
    "    # La discretización nos permite establecer unos límites\n",
    "    bajo  = np.maximum(0, media - 3*stddev)\n",
    "    alto = media + 3*stddev\n",
    "\n",
    "    ret = LogNormalDistribution(qubits, mu=mu, sigma=sigma**2, bounds=(bajo, alto))\n",
    "    return ret,(bajo,alto)"
   ]
  },
  {
   "cell_type": "code",
   "execution_count": 81,
   "id": "functioning-attraction",
   "metadata": {},
   "outputs": [
    {
     "data": {
      "application/vnd.jupyter.widget-view+json": {
       "model_id": "fbf60c521484437e8afee3c983dbae45",
       "version_major": 2,
       "version_minor": 0
      },
      "text/plain": [
       "interactive(children=(IntSlider(value=3, continuous_update=False, description='qubits', max=7, min=1), FloatSl…"
      ]
     },
     "metadata": {},
     "output_type": "display_data"
    }
   ],
   "source": [
    "def plot_modelo_incertidumbre(qubits,spot_price,volatilidad,interes_anual,maduracion_dias):\n",
    "    mi,bounds = modelo_incertidumbre(qubits,spot_price,volatilidad,interes_anual,maduracion_dias/365)\n",
    "    x = mi.values\n",
    "    y = mi.probabilities\n",
    "    plt.bar(x, y, width=0.2)\n",
    "    plt.xticks(x, size=15, rotation=90)\n",
    "    plt.yticks(size=15)\n",
    "    plt.grid()\n",
    "    plt.xlabel(f'Valor de la acción tras {maduracion_dias} días (€)', size=15)\n",
    "    plt.ylabel('Probabilidad ($\\%$)', size=15)\n",
    "    plt.show()\n",
    "    \n",
    "    return mi,bounds\n",
    "    \n",
    "w = ipw.interactive(plot_modelo_incertidumbre, \n",
    "             qubits=ipw.IntSlider(min=1,max=7,step=1,value=3, continuous_update=False),\n",
    "             spot_price=ipw.FloatSlider(min=1.0,max=10.0,value=2.0, continuous_update=False),\n",
    "             volatilidad=ipw.FloatSlider(min=0.1,max=1.0,value=0.4, continuous_update=False),\n",
    "             interes_anual=ipw.FloatSlider(min=0.0,max=1.0,value=0.05, continuous_update=False),\n",
    "             maduracion_dias=ipw.IntSlider(min=5,max=365,value=40, continuous_update=False)\n",
    "            )\n",
    "w"
   ]
  },
  {
   "cell_type": "markdown",
   "id": "impaired-sphere",
   "metadata": {},
   "source": [
    "### Algoritmo de estimación de la amplitud\n",
    "En la computación cuántica se consigue una mejora de la eficiencia respecto a los modelos clásicos con el algoritmo de Estimación de la amplitud.\n",
    "\n",
    "Para un operador $\\mathcal{A}$ que actúe en un registro de n+1 qubits tal que $\\mathcal{A}|0\\rangle_{n+1}=\\sqrt{1-a}|\\psi_0\\rangle_n|0\\rangle + \\sqrt{a} |\\psi_1\\rangle|1\\rangle$ donde $|\\psi_0\\rangle_n$ y $|\\psi_0\\rangle_n$ son estados normalizados y a pertenece a $[0,1]$. La estimación de amplitud estima el valor de a, que es la probabilidad de medir un $|1\\rangle$. Esto lo hace con el operador $\\mathcal{Q} = \\mathcal{A}\\mathcal{S}_0\\mathcal{A}^\\dagger\\mathcal{S}_{\\psi_0}$. Donde $S_0$ y $S_{\\psi_0}$ son rotaciones, el algoritmo usa una estimación de fase (Quantum Phase Estimation) para conocer la fase de $\\mathcal{Q}$ y la mapea a un estimador para $a$.  \n",
    "\n",
    "Aunque es posible no usar la estimación de fase sabiendo que\n",
    "\n",
    "$$ \n",
    "\\mathcal{Q}^k\\mathcal{A}|0\\rangle_n|0\\rangle \n",
    "= \\cos\\left(\\left(2k+1\\right)\\theta_a\\right)|\\psi_0\\rangle_n|0\\rangle\n",
    "+ \\sin\\left(\\left(2k+1\\right)\\theta_a\\right)|\\psi_1\\rangle_n|1\\rangle\n",
    "$$\n",
    "\n",
    "### Implementación de  la función payoff \n",
    "Pero el valor de la acción sólo nos interesa cuando el payoff es mayor que el strike price, pues es cuando la función de pago retorna algún beneficio.\n",
    "\n",
    "Como interesa considerar funciones lineales $f$ para cada qubit. Se usa un operador $\\mathcal{A}$ tal que $a = \\mathbb{E} [f(X)]$ donde $X$ es una variable aleatoria discretizada.(E es la esperanza matemática).\n",
    "\n",
    "Se crea un operador que haga \n",
    "\n",
    "$$ |i\\rangle_n|0\\rangle \\mapsto |i\\rangle_n \\left(\\cos\\left[f(i)\\right]|0\\rangle+\\sin\\left[f(i)\\right]|1\\rangle\\right) $$\n",
    "\n",
    "implementado mediante rotaciones Y controladas. \n",
    "\n"
   ]
  },
  {
   "cell_type": "code",
   "execution_count": 98,
   "id": "imposed-hammer",
   "metadata": {},
   "outputs": [
    {
     "data": {
      "application/vnd.jupyter.widget-view+json": {
       "model_id": "40a2d7e11e1849d1bcf52276cdd6c256",
       "version_major": 2,
       "version_minor": 0
      },
      "text/plain": [
       "interactive(children=(FloatSlider(value=0.25, continuous_update=False, description='c_approx', max=0.5, min=0.…"
      ]
     },
     "metadata": {},
     "output_type": "display_data"
    }
   ],
   "source": [
    "def create_laf(mi,qubits,bajo,alto,c_approx=0.25):\n",
    "    # setup piecewise linear objective fcuntion\n",
    "    breakpoints = [bajo, precio_vencimiento]\n",
    "    slopes = [0, 1]\n",
    "    offsets = [0, 0]\n",
    "    f_min = 0\n",
    "    f_max = alto - precio_vencimiento\n",
    "    european_call_objective = LinearAmplitudeFunction(\n",
    "        qubits,\n",
    "        slopes,\n",
    "        offsets,\n",
    "        domain=(bajo, alto),\n",
    "        image=(f_min, f_max),\n",
    "        breakpoints=breakpoints,\n",
    "        rescaling_factor=c_approx\n",
    "    )\n",
    "\n",
    "    num_qubits = european_call_objective.num_qubits\n",
    "    european_call = QuantumCircuit(num_qubits) \n",
    "    european_call.append(mi, range(qubits))\n",
    "    european_call.append(european_call_objective, range(num_qubits))\n",
    "\n",
    "    return european_call\n",
    "\n",
    "def display_laf(c_approx):\n",
    "    mi = w.result[0]\n",
    "    precio_vencimiento = mi.values[np.argmax(mi.probabilities)]\n",
    "    bajo,alto = w.result[1]\n",
    "    qubits = w.children[0].value\n",
    "    print(f\"Spot price: {precio_vencimiento}\")\n",
    "    c = create_laf(mi,qubits,bajo,alto,c_approx)\n",
    "    display(c.draw('mpl'))\n",
    "    \n",
    "    x = mi.values\n",
    "    y = np.maximum(0, x - precio_vencimiento)\n",
    "    plt.plot(x, y, 'ro-')\n",
    "    plt.grid()\n",
    "    plt.title('Función de pago', size=15)\n",
    "    plt.xlabel('Precio del activo', size=15)\n",
    "    plt.ylabel('Pago', size=15)\n",
    "    plt.xticks(x, size=15, rotation=90)\n",
    "    plt.yticks(size=15)\n",
    "    plt.show()\n",
    "    \n",
    "    exact_value = np.dot(mi.probabilities, y)\n",
    "    exact_delta = sum(mi.probabilities[x >= precio_vencimiento])\n",
    "    print('exact expected value:\\t%.4f' % exact_value)\n",
    "    print('exact delta value:   \\t%.4f' % exact_delta)\n",
    "    \n",
    "    return c\n",
    "\n",
    "w_approx = ipw.interactive(display_laf,\n",
    "                            c_approx=ipw.FloatSlider(min=0.1,max=0.5,value=0.25,step=0.05,continuous_update=False))\n",
    "w_approx"
   ]
  },
  {
   "cell_type": "markdown",
   "id": "applied-rocket",
   "metadata": {},
   "source": [
    "### Evaluación del payoff esperado\n",
    "\n",
    "Se compara el valor a partir del cual empieza a ser rentable la inversión del modelo con el del circuito que aplica la estimación de amplitud. En primer lugar usando el circuito implementado paso a paso para después compararlo con el circuito de la función del modulo finance de qiskit \"EuropeanCallExpectedValue\" para comprobar la precisión de ambos circuitos."
   ]
  },
  {
   "cell_type": "code",
   "execution_count": 123,
   "id": "vanilla-malpractice",
   "metadata": {},
   "outputs": [
    {
     "data": {
      "application/vnd.jupyter.widget-view+json": {
       "model_id": "29031f3a1e054b6a8951861983177c5a",
       "version_major": 2,
       "version_minor": 0
      },
      "text/plain": [
       "interactive(children=(FloatSlider(value=1.0, continuous_update=False, description='epsilon', max=3.0, min=1.0)…"
      ]
     },
     "metadata": {},
     "output_type": "display_data"
    }
   ],
   "source": [
    "from math import pow\n",
    "\n",
    "def construct_ae(epsilon=0.01,alpha=0.05):\n",
    "    # construct amplitude estimation\n",
    "    if epsilon >= 1:\n",
    "        epsilon = pow(10,-epsilon)\n",
    "        \n",
    "    print('Epsilon:            \\t%.4f' % epsilon)\n",
    "    ae = IterativeAmplitudeEstimation(epsilon=epsilon, alpha=alpha,\n",
    "                                      state_preparation=european_call,\n",
    "                                      objective_qubits=[3],\n",
    "                                      post_processing=european_call_objective.post_processing)\n",
    "    result = ae.run(quantum_instance=Aer.get_backend('qasm_simulator'), shots=100)\n",
    "\n",
    "    conf_int = np.array(result['confidence_interval'])\n",
    "    print('Exact value:        \\t%.4f' % exact_value)\n",
    "    print('Estimated value:    \\t%.4f' % (result['estimation']))\n",
    "    print('Confidence interval:\\t[%.4f, %.4f]' % tuple(conf_int))\n",
    "    \n",
    "    return ae\n",
    "\n",
    "w_ae = ipw.interactive(construct_ae, \n",
    "                       epsilon=ipw.FloatSlider(value=1,min=1,max=3,continuous_update=False),\n",
    "                       alpha=ipw.FloatSlider(value=0.05,min=0.025,max=0.30,step=0.025,continuous_update=False)\n",
    "                      )\n",
    "w_ae"
   ]
  },
  {
   "cell_type": "markdown",
   "id": "protective-platinum",
   "metadata": {},
   "source": [
    "A continuación se hará la comparación con el circuito del módulo finance. "
   ]
  },
  {
   "cell_type": "code",
   "execution_count": 125,
   "id": "pacific-recording",
   "metadata": {},
   "outputs": [],
   "source": [
    "from qiskit.finance.applications import EuropeanCallExpectedValue\n",
    "\n",
    "#Evalúa la opción call según el modelo proporcionado\n",
    "european_call_objective = EuropeanCallExpectedValue(qubits,\n",
    "                                                    precio_vencimiento,\n",
    "                                                    rescaling_factor=c_approx,\n",
    "                                                    bounds=(bajo, alto))\n",
    "\n",
    "european_cal1 = european_call_objective.compose(mi, front=True)\n",
    "\n",
    "epsilon = 0.01\n",
    "alpha = 0.05\n",
    "\n",
    "ae = IterativeAmplitudeEstimation(epsilon=epsilon, alpha=alpha,\n",
    "                                  state_preparation=european_cal1,\n",
    "                                  objective_qubits=[3],\n",
    "                                  post_processing=european_call_objective.post_processing)\n",
    "result = ae.run(quantum_instance=Aer.get_backend('qasm_simulator'), shots=100)"
   ]
  },
  {
   "cell_type": "code",
   "execution_count": 126,
   "id": "associate-importance",
   "metadata": {},
   "outputs": [
    {
     "name": "stdout",
     "output_type": "stream",
     "text": [
      "Exact value:        \t0.1620\n",
      "Estimated value:    \t0.1709\n",
      "Confidence interval:\t[0.1661, 0.1757]\n"
     ]
    }
   ],
   "source": [
    "conf_int = np.array(result['confidence_interval'])\n",
    "print('Exact value:        \\t%.4f' % exact_value)\n",
    "print('Estimated value:    \\t%.4f' % (result['estimation']))\n",
    "print('Confidence interval:\\t[%.4f, %.4f]' % tuple(conf_int))"
   ]
  },
  {
   "cell_type": "markdown",
   "id": "ready-biodiversity",
   "metadata": {},
   "source": [
    "Tras varias ejecuciones hemos observado que ambos circuitos parecen funcionar con la misma precisión y nos dan resultados parecidos."
   ]
  },
  {
   "cell_type": "code",
   "execution_count": 127,
   "id": "marked-alexander",
   "metadata": {},
   "outputs": [],
   "source": [
    "from qiskit.finance.applications import EuropeanCallDelta\n",
    "\n",
    "european_call_delta = EuropeanCallDelta(qubits, precio_vencimiento, bounds=(bajo, alto))"
   ]
  },
  {
   "cell_type": "code",
   "execution_count": 128,
   "id": "introductory-mouth",
   "metadata": {},
   "outputs": [
    {
     "data": {
      "image/png": "[encoded data removed]",
      "text/plain": [
       "<Figure size 607.714x385.28 with 1 Axes>"
      ]
     },
     "execution_count": 128,
     "metadata": {},
     "output_type": "execute_result"
    }
   ],
   "source": [
    "european_call_delta.decompose().draw(output='mpl')"
   ]
  },
  {
   "cell_type": "code",
   "execution_count": 130,
   "id": "solar-zoning",
   "metadata": {},
   "outputs": [
    {
     "data": {
      "image/png": "[encoded data removed]",
      "text/plain": [
       "<Figure size 206.997x385.28 with 1 Axes>"
      ]
     },
     "execution_count": 130,
     "metadata": {},
     "output_type": "execute_result"
    }
   ],
   "source": [
    "state_preparation = QuantumCircuit(european_call_delta.num_qubits)\n",
    "state_preparation.append(mi, range(mi.num_qubits))\n",
    "state_preparation.append(european_call_delta, range(european_call_delta.num_qubits))\n",
    "state_preparation.draw(output='mpl')"
   ]
  },
  {
   "cell_type": "code",
   "execution_count": 131,
   "id": "confirmed-steal",
   "metadata": {},
   "outputs": [],
   "source": [
    "# set target precision and confidence level\n",
    "epsilon = 0.01\n",
    "alpha = 0.05\n",
    "\n",
    "# construct amplitude estimation\n",
    "ae_delta = IterativeAmplitudeEstimation(epsilon=epsilon, alpha=alpha,\n",
    "                                        state_preparation=state_preparation,\n",
    "                                        objective_qubits=[qubits])"
   ]
  },
  {
   "cell_type": "code",
   "execution_count": 132,
   "id": "liberal-horse",
   "metadata": {},
   "outputs": [],
   "source": [
    "result_delta = ae_delta.run(quantum_instance=Aer.get_backend('qasm_simulator'), shots=100)"
   ]
  },
  {
   "cell_type": "code",
   "execution_count": 133,
   "id": "through-dinner",
   "metadata": {},
   "outputs": [
    {
     "name": "stdout",
     "output_type": "stream",
     "text": [
      "Exact delta:    \t0.8098\n",
      "Esimated value: \t0.8090\n",
      "Confidence interval: \t[0.8043, 0.8137]\n"
     ]
    }
   ],
   "source": [
    "conf_int = np.array(result_delta['confidence_interval'])\n",
    "print('Exact delta:    \\t%.4f' % exact_delta)\n",
    "print('Esimated value: \\t%.4f' % result_delta['estimation'])\n",
    "print('Confidence interval: \\t[%.4f, %.4f]' % tuple(conf_int))"
   ]
  }
 ],
 "metadata": {
  "kernelspec": {
   "display_name": "qiskit",
   "language": "python",
   "name": "qiskit"
  },
  "language_info": {
   "codemirror_mode": {
    "name": "ipython",
    "version": 3
   },
   "file_extension": ".py",
   "mimetype": "text/x-python",
   "name": "python",
   "nbconvert_exporter": "python",
   "pygments_lexer": "ipython3",
   "version": "3.8.5"
  }
 },
 "nbformat": 4,
 "nbformat_minor": 5
}
